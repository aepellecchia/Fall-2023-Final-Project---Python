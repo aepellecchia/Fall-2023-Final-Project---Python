{
 "cells": [
  {
   "cell_type": "markdown",
   "metadata": {},
   "source": [
    "# IST256 Project Deliverable 3 (P3)\n",
    "\n",
    "## Phase 3: Implementation\n",
    "\n",
    "In this step, you submit the final version of working code. No changes to your code will be considered after this submission. It is important to take prior instructor feedback taken into consideration and these factor into your evaluation.\n",
    "\n",
    "**IMPORTANT**: Don't forget to journal your work on the project as it factors into the evaluation of your work!"
   ]
  },
  {
   "cell_type": "markdown",
   "metadata": {
    "jp-MarkdownHeadingCollapsed": true,
    "tags": []
   },
   "source": [
    "### Step 1: What is Your Idea, Again?\n",
    "\n",
    "Please reiterate your project idea below (you can copy it from P1/P2).\n",
    "\n",
    "`--== Double-click and put the title or brief description of your project below  ==--`\n",
    "\n",
    "For my project, I would like to start work on a service that sorts an email inbox by address, email size, if it has attachments or not, and/or if it is a no-reply email or not. The project may end up being a proof-of-concept, as it ideally would have many features. This would be a very useful tool to sort through email quicky. Many email apps have clunky sorting features, and the idea is to improve the search paradigm so that the user can choose one of multiple parameters to search for or more than one (for example, a specific email address and specifying attachments at the same time). The user would input the link to their email inbox or their email address, then the program would get the contents of the inbox. After that, they select and/or type in a search query, and the program retrieves what they asked for. They can also view stats (amount of emails in inbox, etc.) if they wish. The parsing work can be done with the email.parser module.\n",
    "\n",
    "That was my original plan. However, due to numerous technical issues, the project had to be simplified. Now, it takes a CSV of email files and displays various metrics, such as the subject, who it's from, the link to the email, and the date. This is useful for a short analysis of a particular person's inbox.  "
   ]
  },
  {
   "cell_type": "markdown",
   "metadata": {},
   "source": [
    "### Step 2: Project Code\n",
    "\n",
    "Include all project code below. Make sure to execute your code to ensure it runs properly before you turn it in. \n"
   ]
  },
  {
   "cell_type": "code",
   "execution_count": 1,
   "metadata": {
    "tags": []
   },
   "outputs": [],
   "source": [
    "from IPython.display import display, HTML\n",
    "from ipywidgets import widgets, interact\n",
    "import pandas as pd\n",
    "from IPython.display import display"
   ]
  },
  {
   "cell_type": "code",
   "execution_count": 22,
   "metadata": {},
   "outputs": [
    {
     "name": "stdout",
     "output_type": "stream",
     "text": [
      "Parameters available:\n",
      "1. ID\n",
      "2. Thread\n",
      "3. Date\n",
      "4. From\n",
      "5. To\n",
      "6. Subject\n",
      "7. Snippet\n",
      "8. Labels\n",
      "9. Link\n"
     ]
    },
    {
     "name": "stdin",
     "output_type": "stream",
     "text": [
      "\n",
      "Choose a parameter to display: 9\n"
     ]
    },
    {
     "name": "stdout",
     "output_type": "stream",
     "text": [
      "Link\n",
      "47    https://mail.google.com/mail/u/0/#inbox/18c08d...\n",
      "32    https://mail.google.com/mail/u/0/#inbox/18c255...\n",
      "41    https://mail.google.com/mail/u/0/#inbox/18c15d...\n",
      "66    https://mail.google.com/mail/u/0/#inbox/18be4a...\n",
      "21    https://mail.google.com/mail/u/0/#inbox/18c415...\n",
      "1     https://mail.google.com/mail/u/0/#inbox/18c7de...\n",
      "61    https://mail.google.com/mail/u/0/#inbox/18beef...\n",
      "10    https://mail.google.com/mail/u/0/#inbox/18c5b9...\n",
      "14    https://mail.google.com/mail/u/0/#inbox/18c50f...\n",
      "58    https://mail.google.com/mail/u/0/#inbox/18bf41...\n",
      "53    https://mail.google.com/mail/u/0/#inbox/18c00a...\n",
      "23    https://mail.google.com/mail/u/0/#inbox/18c3c3...\n",
      "63    https://mail.google.com/mail/u/0/#inbox/18bee4...\n",
      "16    https://mail.google.com/mail/u/0/#inbox/18c4ba...\n",
      "48    https://mail.google.com/mail/u/0/#inbox/18c06f...\n",
      "38    https://mail.google.com/mail/u/0/#inbox/18c16c...\n",
      "17    https://mail.google.com/mail/u/0/#inbox/18c4ba...\n",
      "59    https://mail.google.com/mail/u/0/#inbox/18bf33...\n",
      "6     https://mail.google.com/mail/u/0/#inbox/18c6a9...\n",
      "35    https://mail.google.com/mail/u/0/#inbox/18c212...\n",
      "Name: Link, dtype: object\n"
     ]
    }
   ],
   "source": [
    "def display_column(dataframe):\n",
    "    print(\"Parameters available:\")\n",
    "    columns = dataframe.columns.tolist()\n",
    "    for idx, column in enumerate(columns):\n",
    "        print(f\"{idx+1}. {column}\")\n",
    "    choice = int(input(\"\\nChoose a parameter to display:\"))\n",
    "    if choice < 1 or choice > len(columns):\n",
    "        print(\"Error: Invalid Number\")\n",
    "        return\n",
    "    chosen_column = dataframe[columns[choice-1]]\n",
    "    print(f\"{columns[choice-1]}\")\n",
    "    print(chosen_column)\n",
    "\n",
    "df = pd.read_csv('gmail_export_aepellec.csv').sample(20)\n",
    "display_column(df)"
   ]
  },
  {
   "cell_type": "markdown",
   "metadata": {},
   "source": [
    "### Prepare for your Pitch and Reflection\n",
    "\n",
    "With the project code complete, its time to prepare for the final deliverable - submitting your project demo Pitch and reflection.\n"
   ]
  },
  {
   "cell_type": "code",
   "execution_count": 83,
   "metadata": {},
   "outputs": [
    {
     "data": {
      "application/javascript": [
       "IPython.notebook.save_notebook()"
      ]
     },
     "metadata": {},
     "output_type": "display_data"
    },
    {
     "data": {
      "text/html": [
       "<h2>Submission Details</h2>"
      ],
      "text/plain": [
       "<IPython.core.display.HTML object>"
      ]
     },
     "metadata": {},
     "output_type": "display_data"
    },
    {
     "data": {
      "text/html": [
       "<ul><li>Your NetID: <code>aepellec@syr.edu</code></li><li>Instructor NetID: <code>ykim72@syr.edu</code></li><li>Blackboard Gradebook Assignment Name: <code>P3</code></li><li>Total Points: <code>0</code></li><li>File You Are Submitting: <code>P3.ipynb</code></li><li>Date/Time of Your Submission: <code>12/18/2023 05:02 PM</code></li><li>Due Date of the Assignment: <code>12/19/2023 11:59 PM</code></li></ul>"
      ],
      "text/plain": [
       "<IPython.core.display.HTML object>"
      ]
     },
     "metadata": {},
     "output_type": "display_data"
    },
    {
     "data": {
      "text/html": [
       "<p style='color: #993333;'><i class='fa fa-save'></i> <b>To ensure your instructor has the most recent version, press <code>CTRL+S</code> to save your work before submitting.</b></p>"
      ],
      "text/plain": [
       "<IPython.core.display.HTML object>"
      ]
     },
     "metadata": {},
     "output_type": "display_data"
    },
    {
     "data": {
      "application/vnd.jupyter.widget-view+json": {
       "model_id": "3651ba0025464734b45a93f5411358a3",
       "version_major": 2,
       "version_minor": 0
      },
      "text/plain": [
       "HBox(children=(Button(button_style='success', description='Submit', icon='check-circle', style=ButtonStyle(), …"
      ]
     },
     "metadata": {},
     "output_type": "display_data"
    },
    {
     "data": {
      "application/vnd.jupyter.widget-view+json": {
       "model_id": "cf6d7f4e66da49459af51ed8df84f6cd",
       "version_major": 2,
       "version_minor": 0
      },
      "text/plain": [
       "Output()"
      ]
     },
     "metadata": {},
     "output_type": "display_data"
    }
   ],
   "source": [
    "# run this code to turn in your work!\n",
    "from coursetools.submission import Submission\n",
    "Submission().submit()"
   ]
  },
  {
   "cell_type": "code",
   "execution_count": null,
   "metadata": {},
   "outputs": [],
   "source": []
  }
 ],
 "metadata": {
  "kernelspec": {
   "display_name": "Python 3 (ipykernel)",
   "language": "python",
   "name": "python3"
  },
  "language_info": {
   "codemirror_mode": {
    "name": "ipython",
    "version": 3
   },
   "file_extension": ".py",
   "mimetype": "text/x-python",
   "name": "python",
   "nbconvert_exporter": "python",
   "pygments_lexer": "ipython3",
   "version": "3.11.7"
  },
  "varInspector": {
   "cols": {
    "lenName": 16,
    "lenType": 16,
    "lenVar": 40
   },
   "kernels_config": {
    "python": {
     "delete_cmd_postfix": "",
     "delete_cmd_prefix": "del ",
     "library": "var_list.py",
     "varRefreshCmd": "print(var_dic_list())"
    },
    "r": {
     "delete_cmd_postfix": ") ",
     "delete_cmd_prefix": "rm(",
     "library": "var_list.r",
     "varRefreshCmd": "cat(var_dic_list()) "
    }
   },
   "types_to_exclude": [
    "module",
    "function",
    "builtin_function_or_method",
    "instance",
    "_Feature"
   ],
   "window_display": false
  }
 },
 "nbformat": 4,
 "nbformat_minor": 4
}
